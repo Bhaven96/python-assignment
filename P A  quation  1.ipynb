{
 "cells": [
  {
   "cell_type": "code",
   "execution_count": null,
   "id": "ab91378f",
   "metadata": {},
   "outputs": [],
   "source": [
    "Write a python program to get the fibonacci series\n",
    "Note : the fibonacci sequence is the series of number :\n",
    " 0,1,1,2,3,5,8,13,21, ....\n",
    " Every next number is found by adding up the two number.\n",
    " Expected output :1 1 2 3 5 8 13 21 34\n",
    "\n",
    "a,b=0,1\n",
    "While b<50:\n",
    "    print(B)\n",
    "    A,B =B,A+B\n"
   ]
  }
 ],
 "metadata": {
  "kernelspec": {
   "display_name": "Python 3",
   "language": "python",
   "name": "python3"
  },
  "language_info": {
   "codemirror_mode": {
    "name": "ipython",
    "version": 3
   },
   "file_extension": ".py",
   "mimetype": "text/x-python",
   "name": "python",
   "nbconvert_exporter": "python",
   "pygments_lexer": "ipython3",
   "version": "3.8.8"
  }
 },
 "nbformat": 4,
 "nbformat_minor": 5
}
